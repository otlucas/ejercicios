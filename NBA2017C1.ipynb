{
 "cells": [
  {
   "cell_type": "code",
   "execution_count": 41,
   "metadata": {},
   "outputs": [],
   "source": [
    "import pyspark\n",
    "sc = pyspark.SparkContext.getOrCreate()"
   ]
  },
  {
   "cell_type": "code",
   "execution_count": 42,
   "metadata": {},
   "outputs": [],
   "source": [
    "datos_jugadores_regtemp = [\n",
    "    (1, 'Manu Ginobili', 30, 35, 8, 8, 5, 2.2),\n",
    "    (2, 'Kobe Bryant', 40, 30, 3, 5, 20, 2.1),\n",
    "    (3, 'LeBron James', 58, 20, 3, 8, 30, 2.9),\n",
    "    (4, 'Andre Iguodala', 35, 15, 5, 10, 20, 4),\n",
    "    (5, 'Carmelo Anthony', 40, 10, 6, 6, 22, 1.1)\n",
    "]\n",
    "\n",
    "datos_jugadores_po = [\n",
    "    (1, 1, 1, 8, 3, 4, 2, 12, 1),\n",
    "    (1, 1, 3, 4, 1, 5, 2, 15, 1),\n",
    "    (1, 1, 4, 12, 2, 3, 2, 10, 1),\n",
    "    (2, 1, 1, 18, 3, 3, 3, 8, 2),\n",
    "    (2, 1, 4, 9, 3, 4, 1, 5, 1),\n",
    "    (3, 2, 1, 12, 6, 4, 1, 3, 1),\n",
    "    (3, 2, 2, 15, 8, 5, 3, 7, 1),\n",
    "    (3, 2, 3, 22, 6, 2, 1, 4, 2),\n",
    "    (3, 2, 4, 18, 10, 4, 2, 4, 1),\n",
    "    (4, 2, 1, 12, 2, 1, 1, 9, 0),\n",
    "    (4, 2, 2, 25, 8, 4, 2, 4, 3),\n",
    "    (4, 2, 4, 15, 4, 2, 2, 8, 1),\n",
    "    (1, 3, 3, 2, 1, 0, 0, 3, 2),\n",
    "    (5, 3, 1, 8, 1, 2, 0, 6, 0),\n",
    "    (5, 3, 1, 7, 0, 0, 1, 6, 1),\n",
    "]\n",
    "\n",
    "\n",
    "# Los paso a RDDs\n",
    "rdd_tr = sc.parallelize(datos_jugadores_regtemp)\n",
    "rdd_po = sc.parallelize(datos_jugadores_po)"
   ]
  },
  {
   "cell_type": "code",
   "execution_count": 43,
   "metadata": {},
   "outputs": [
    {
     "data": {
      "text/plain": [
       "[(1, 'Manu Ginobili', 30, 35, 8, 8, 5, 2.2),\n",
       " (2, 'Kobe Bryant', 40, 30, 3, 5, 20, 2.1),\n",
       " (3, 'LeBron James', 58, 20, 3, 8, 30, 2.9),\n",
       " (4, 'Andre Iguodala', 35, 15, 5, 10, 20, 4),\n",
       " (5, 'Carmelo Anthony', 40, 10, 6, 6, 22, 1.1)]"
      ]
     },
     "execution_count": 43,
     "metadata": {},
     "output_type": "execute_result"
    }
   ],
   "source": [
    "rdd_tr.collect()"
   ]
  },
  {
   "cell_type": "code",
   "execution_count": 55,
   "metadata": {},
   "outputs": [
    {
     "data": {
      "text/plain": [
       "[(1, ['Manu Ginobili', 35]),\n",
       " (2, ['Kobe Bryant', 30]),\n",
       " (3, ['LeBron James', 20]),\n",
       " (4, ['Andre Iguodala', 15]),\n",
       " (5, ['Carmelo Anthony', 10])]"
      ]
     },
     "execution_count": 55,
     "metadata": {},
     "output_type": "execute_result"
    }
   ],
   "source": [
    "rdd_tr_asistencias = rdd_tr.map(lambda x : (x[0], [x[1], x[3]]))\n",
    "rdd_tr_asistencias.collect()"
   ]
  },
  {
   "cell_type": "code",
   "execution_count": 50,
   "metadata": {},
   "outputs": [],
   "source": [
    "rdd_po_asistencias = rdd_po.map(lambda x : ((x[0], x[1]), x[7])).reduceByKey(lambda x,y : x + y)"
   ]
  },
  {
   "cell_type": "code",
   "execution_count": 51,
   "metadata": {
    "scrolled": false
   },
   "outputs": [
    {
     "data": {
      "text/plain": [
       "[(1, [37]), (2, [13]), (3, [18]), (4, [21]), (5, [12])]"
      ]
     },
     "execution_count": 51,
     "metadata": {},
     "output_type": "execute_result"
    }
   ],
   "source": [
    "rdd_po_asistencias = rdd_po_asistencias.map(lambda x: (x[0][0], [x[1]])).reduceByKey(lambda x,y : max(x,y))\n",
    "rdd_po_asistencias.collect()"
   ]
  },
  {
   "cell_type": "code",
   "execution_count": 59,
   "metadata": {},
   "outputs": [
    {
     "data": {
      "text/plain": [
       "['Manu Ginobili', 'Andre Iguodala', 'Carmelo Anthony']"
      ]
     },
     "execution_count": 59,
     "metadata": {},
     "output_type": "execute_result"
    }
   ],
   "source": [
    "rdd_tr_asistencias.join(rdd_po_asistencias).filter(lambda x : x[1][0][1] < x[1][1][0]).map(lambda x : x[1][0][0]).collect()"
   ]
  }
 ],
 "metadata": {
  "kernelspec": {
   "display_name": "Python 3",
   "language": "python",
   "name": "python3"
  },
  "language_info": {
   "codemirror_mode": {
    "name": "ipython",
    "version": 3
   },
   "file_extension": ".py",
   "mimetype": "text/x-python",
   "name": "python",
   "nbconvert_exporter": "python",
   "pygments_lexer": "ipython3",
   "version": "3.7.3"
  }
 },
 "nbformat": 4,
 "nbformat_minor": 2
}
