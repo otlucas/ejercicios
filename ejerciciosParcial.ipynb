{
 "cells": [
  {
   "cell_type": "code",
   "execution_count": 26,
   "metadata": {},
   "outputs": [],
   "source": [
    "import pandas as pd"
   ]
  },
  {
   "cell_type": "code",
   "execution_count": 27,
   "metadata": {},
   "outputs": [],
   "source": [
    "users = pd.DataFrame()"
   ]
  },
  {
   "cell_type": "code",
   "execution_count": 28,
   "metadata": {},
   "outputs": [],
   "source": [
    "from random import randrange\n",
    "from datetime import timedelta\n",
    "\n",
    "def random_date(start, end):\n",
    "    \"\"\"\n",
    "    This function will return a random datetime between two datetime \n",
    "    objects.\n",
    "    \"\"\"\n",
    "    delta = end - start\n",
    "    int_delta = (delta.days * 24 * 60 * 60) + delta.seconds\n",
    "    random_second = randrange(int_delta)\n",
    "    return start + timedelta(seconds=random_second)"
   ]
  },
  {
   "cell_type": "code",
   "execution_count": 34,
   "metadata": {},
   "outputs": [],
   "source": [
    "import random as random\n",
    "import string as string\n",
    "usersRows = []\n",
    "nicknameList = []\n",
    "i = 0\n",
    "d1 = pd.to_datetime('1/1/2008 1:30 PM', format='%m/%d/%Y %I:%M %p')\n",
    "d2 = pd.to_datetime('1/1/2009 4:50 AM', format='%m/%d/%Y %I:%M %p')\n",
    "while i < 1001:\n",
    "    nickname = ''.join(random.choice(string.ascii_uppercase + string.digits) for _ in range(6))\n",
    "    country = \"\"\n",
    "    if(i % 2 == 0):\n",
    "        country = \"CO\"\n",
    "    elif (i % 3 == 0):\n",
    "        country = \"PA\"\n",
    "    else:\n",
    "        country = \"AR\"\n",
    "    usersRows.append((i, nickname, country, random_date(d1, d2)))\n",
    "    nicknameList.append(nickname)\n",
    "    i = i + 1;\n",
    "users = pd.DataFrame(usersRows, columns = ['id_usuario' , 'nickname', 'pais' , 'date']) "
   ]
  },
  {
   "cell_type": "code",
   "execution_count": null,
   "metadata": {},
   "outputs": [],
   "source": []
  },
  {
   "cell_type": "code",
   "execution_count": null,
   "metadata": {},
   "outputs": [],
   "source": []
  }
 ],
 "metadata": {
  "kernelspec": {
   "display_name": "Python 3",
   "language": "python",
   "name": "python3"
  },
  "language_info": {
   "codemirror_mode": {
    "name": "ipython",
    "version": 3
   },
   "file_extension": ".py",
   "mimetype": "text/x-python",
   "name": "python",
   "nbconvert_exporter": "python",
   "pygments_lexer": "ipython3",
   "version": "3.7.1"
  }
 },
 "nbformat": 4,
 "nbformat_minor": 2
}
